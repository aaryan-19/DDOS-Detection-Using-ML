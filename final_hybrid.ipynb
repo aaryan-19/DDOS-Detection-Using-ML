{
 "cells": [
  {
   "cell_type": "code",
   "execution_count": 2,
   "metadata": {},
   "outputs": [],
   "source": [
    "import arff\n",
    "import numpy as np\n",
    "from matplotlib import pyplot as plt\n",
    "from keras.layers import Dense, Dropout\n",
    "from keras.models import Sequential\n",
    "from keras.models import load_model\n",
    "from keras.callbacks import TensorBoard\n",
    "from tensorflow.keras.utils import to_categorical\n"
   ]
  },
  {
   "cell_type": "code",
   "execution_count": 3,
   "metadata": {},
   "outputs": [],
   "source": [
    "file = open(\"Dataset/final-dataset.arff\")"
   ]
  },
  {
   "cell_type": "code",
   "execution_count": 4,
   "metadata": {},
   "outputs": [],
   "source": [
    "def scrape_data():\n",
    "    decoder = arff.ArffDecoder()\n",
    "    data = decoder.decode(file, encode_nominal=True)\n",
    "\n",
    "    vals = [val[0: -1] for val in data['data']]\n",
    "    labels = [label[-1] for label in data['data']]\n",
    "\n",
    "    for val in labels:\n",
    "        if labels[val] != 0:\n",
    "            labels[val] = 1\n",
    "    \n",
    "    training_data = vals[0: int(.9 * len(vals))]\n",
    "    training_lables = labels[0: int(0.9 * len(vals))]\n",
    "    validation_data = vals[int(.9 * len(vals)):]\n",
    "    validation_labels = labels[int(.9 * len(vals)):]\n",
    "\n",
    "    training_lables = to_categorical(training_lables, 5)\n",
    "    validation_labels = to_categorical(validation_labels, 5)\n",
    "\n",
    "    return np.asarray(training_data), np.asarray(training_lables), np.asarray(validation_data), np.asarray(validation_labels)"
   ]
  },
  {
   "cell_type": "code",
   "execution_count": 5,
   "metadata": {},
   "outputs": [],
   "source": [
    "def generate_model(shape):\n",
    "    model = Sequential()\n",
    "    \n",
    "    model.add(Dense(30, input_dim=shape,\n",
    "                kernel_initializer='uniform', activation='relu'))\n",
    "\n",
    "    model.add(Dropout(0.4))\n",
    "    model.add(Dense(10, activation='relu'))\n",
    "    model.add(Dropout(0.4))\n",
    "    model.add(Dense(10, activation='relu'))\n",
    "    model.add(Dropout(0.4))\n",
    "    model.add(Dense(64, activation='relu'))\n",
    "    model.add(Dropout(0.4))\n",
    "    model.add(Dense(5, activation='softmax'))\n",
    "    print(model.summary())\n",
    "\n",
    "    return model"
   ]
  },
  {
   "cell_type": "code",
   "execution_count": 6,
   "metadata": {},
   "outputs": [
    {
     "name": "stdout",
     "output_type": "stream",
     "text": [
      "Model: \"sequential\"\n",
      "_________________________________________________________________\n",
      " Layer (type)                Output Shape              Param #   \n",
      "=================================================================\n",
      " dense (Dense)               (None, 30)                840       \n",
      "                                                                 \n",
      " dropout (Dropout)           (None, 30)                0         \n",
      "                                                                 \n",
      " dense_1 (Dense)             (None, 10)                310       \n",
      "                                                                 \n",
      " dropout_1 (Dropout)         (None, 10)                0         \n",
      "                                                                 \n",
      " dense_2 (Dense)             (None, 10)                110       \n",
      "                                                                 \n",
      " dropout_2 (Dropout)         (None, 10)                0         \n",
      "                                                                 \n",
      " dense_3 (Dense)             (None, 64)                704       \n",
      "                                                                 \n",
      " dropout_3 (Dropout)         (None, 64)                0         \n",
      "                                                                 \n",
      " dense_4 (Dense)             (None, 5)                 325       \n",
      "                                                                 \n",
      "=================================================================\n",
      "Total params: 2,289\n",
      "Trainable params: 2,289\n",
      "Non-trainable params: 0\n",
      "_________________________________________________________________\n",
      "None\n"
     ]
    }
   ],
   "source": [
    "data_train, label_train, data_eval, label_eval = scrape_data()\n",
    "\n",
    "model = generate_model(len(data_train[0]))\n",
    "model.compile(loss='categorical_crossentropy',\n",
    "                optimizer='adam', metrics=['accuracy'])"
   ]
  },
  {
   "cell_type": "code",
   "execution_count": 8,
   "metadata": {},
   "outputs": [
    {
     "name": "stdout",
     "output_type": "stream",
     "text": [
      "Epoch 1/2\n",
      "60769/60769 [==============================] - 193s 3ms/step - loss: 66.5870 - accuracy: 0.8945 - val_loss: 0.3793 - val_accuracy: 0.8956\n",
      "Epoch 2/2\n",
      "60769/60769 [==============================] - 143s 2ms/step - loss: 0.3794 - accuracy: 0.8960 - val_loss: 0.3793 - val_accuracy: 0.8956\n",
      "6753/6753 [==============================] - 11s 2ms/step - loss: 0.3793 - accuracy: 0.8956\n",
      "[0.37926915287971497, 0.8956295847892761]\n",
      "60769/60769 [==============================] - 98s 2ms/step - loss: 0.3795 - accuracy: 0.8960\n",
      "[0.37945234775543213, 0.8960413932800293]\n"
     ]
    }
   ],
   "source": [
    "tensorboard = TensorBoard(\n",
    "    log_dir='logs/', histogram_freq=0, write_graph=True, write_images=True)\n",
    "\n",
    "history = model.fit(data_train, label_train, validation_data=(\n",
    "    data_eval, label_eval), epochs=2, callbacks=[tensorboard])\n",
    "\n",
    "loss_history = history.history[\"loss\"]\n",
    "\n",
    "# evaluate the model's performance\n",
    "print(model.evaluate(data_eval, label_eval))\n",
    "print(model.evaluate(data_train, label_train))"
   ]
  },
  {
   "cell_type": "code",
   "execution_count": null,
   "metadata": {},
   "outputs": [],
   "source": []
  }
 ],
 "metadata": {
  "kernelspec": {
   "display_name": "Python 3.10.6 64-bit",
   "language": "python",
   "name": "python3"
  },
  "language_info": {
   "codemirror_mode": {
    "name": "ipython",
    "version": 3
   },
   "file_extension": ".py",
   "mimetype": "text/x-python",
   "name": "python",
   "nbconvert_exporter": "python",
   "pygments_lexer": "ipython3",
   "version": "3.10.6"
  },
  "orig_nbformat": 4,
  "vscode": {
   "interpreter": {
    "hash": "369f2c481f4da34e4445cda3fffd2e751bd1c4d706f27375911949ba6bb62e1c"
   }
  }
 },
 "nbformat": 4,
 "nbformat_minor": 2
}
